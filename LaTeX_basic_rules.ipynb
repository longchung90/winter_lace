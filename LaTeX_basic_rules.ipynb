{
 "cells": [
  {
   "cell_type": "markdown",
   "metadata": {},
   "source": [
    "# LaTeX for mathmatic expressions\n",
    "The following content was retrieved and adapted from Coursera by IBM through the chatbot"
   ]
  },
  {
   "cell_type": "markdown",
   "metadata": {},
   "source": [
    "## What is LaTeX?\n",
    "A typesetting system commonly used for producing **scientific and mathematical documents** due to its powerful handling of formulas and bibliographies.\n",
    "\n",
    "## Basic structure for document\n",
    "```\n",
    "\\documentclass{article}\n",
    "\\begin{document}\n",
    "Hello, World!\n",
    "\\end{document}\n",
    "```\n",
    "## Common commands\n",
    "```\n",
    "\\section{Section Title}: Creates a new section.\n",
    "\\subsection{Subsection Title}: Creates a new subsection.\n",
    "\\textbf{Bold Text}: Makes text bold.\n",
    "\\textit{Italic Text}\n",
    "\n",
    "```\n",
    "## Mathematics\n",
    "* Inline math: \n",
    "```\n",
    "$...$ (e.g., $E=mc^2$).\n",
    "```\n",
    "* Display math: \n",
    "```\n",
    "\\[...\\] , see notes\n",
    "```"
   ]
  },
  {
   "cell_type": "markdown",
   "metadata": {},
   "source": [
    "### Tips                  **DO NOT RUN**\n",
    "\n",
    "\n",
    "To display the formula correctly in a Jupyter Notebook using Markdown, you should not mix the dollar signs with the brackets. Instead, use either **single dollar signs for inline or double dollar signs** for display math. \n",
    "Here’s how to do it:\n",
    "\n",
    "- For Inline Display:\n",
    "\n",
    "If you want to show it inline, use:\n",
    "\n",
    "The formula is $E=mc^2$.\n",
    "\n",
    "- For Display Mode:\n",
    "\n",
    "If you want to display it as a separate block, use:\n",
    "$$\n",
    "E=mc^2\n",
    "$$\n",
    "\n",
    "Note:\n",
    "\n",
    "The \\[ ... \\] syntax is not needed in Jupyter Markdown; just use $...$ for inline and $$...$$ for display.\n",
    "Run the cell to see the rendered output. If you have any more questions or need further assistance, feel free to ask!#Example:\n",
    "$\\[ E=mc^2 \\] = r\\[ E=mc^2 \\]"
   ]
  },
  {
   "cell_type": "markdown",
   "metadata": {},
   "source": [
    "### Example\n",
    "The equation for cost with one variable is: \n",
    "  $$\n",
    "  J(w,b) = \\frac{1}{2m} \\sum\\limits_{i = 0}^{m-1} (f_{w,b}(x^{(i)}) - y^{(i)})^2 \\tag{1}\n",
    "  $$ "
   ]
  },
  {
   "cell_type": "markdown",
   "metadata": {},
   "source": [
    "\n"
   ]
  },
  {
   "cell_type": "markdown",
   "metadata": {},
   "source": [
    "We type: \n",
    "  $$\n",
    "  J(w,b) = \\frac{1}{2m} \\sum\\limits_{i = 0}^{m-1} (f_{w,b}(x^{(i)}) - y^{(i)})^2 \\tag{1}\n",
    "  $$ "
   ]
  },
  {
   "cell_type": "markdown",
   "metadata": {},
   "source": [
    "\n",
    "**DO NOT RUN**\n",
    "\n",
    "### Common math formatting\n",
    "\n",
    "Fractions: \n",
    "\n",
    "\\frac{a}{b}  % produces a/b\n",
    "Square Root: \n",
    "\n",
    "\\sqrt{x}  % produces √x\n",
    "Exponents: \n",
    "\n",
    "x^n  % produces x^n\n",
    "Subscripts: \n",
    "\n",
    "x_n  % produces x_n\n",
    "Summation: \n",
    "\n",
    "\\sum_{i=1}^{n} i  % produces ∑ from i=1 to n\n",
    "Integrals: \n",
    "\n",
    "\\int_{a}^{b} f(x) \\, dx  % produces ∫ from a to b of f(x) dx\n",
    "Greek Letters: \n",
    "\n",
    "Alpha: \\alpha\n",
    "Beta: \\beta\n",
    "Gamma: \\gamma\n",
    "Pi: \\pi\n",
    "Theta: \\theta\n",
    "Equations:\n",
    "y = mx + b  % produces y = mx + b\n"
   ]
  },
  {
   "cell_type": "markdown",
   "metadata": {},
   "source": [
    "$$\\begin{align*} \\text{repeat}&\\text{ until convergence:} \\; \\lbrace \\newline\n",
    "\\;  w &= w -  \\alpha \\frac{\\partial J(w,b)}{\\partial w} \\tag{3}  \\; \\newline \n",
    " b &= b -  \\alpha \\frac{\\partial J(w,b)}{\\partial b}  \\newline \\rbrace\n",
    "\\end{align*}$$\n",
    "where, parameters $w$, $b$ are updated simultaneously.  \n",
    "The gradient is defined as:\n",
    "$$\n",
    "\\begin{align}\n",
    "\\frac{\\partial J(w,b)}{\\partial w}  &= \\frac{1}{m} \\sum\\limits_{i = 0}^{m-1} (f_{w,b}(x^{(i)}) - y^{(i)})x^{(i)} \\tag{4}\\\\\n",
    "  \\frac{\\partial J(w,b)}{\\partial b}  &= \\frac{1}{m} \\sum\\limits_{i = 0}^{m-1} (f_{w,b}(x^{(i)}) - y^{(i)}) \\tag{5}\\\\\n",
    "\\end{align}\n",
    "$$\n"
   ]
  },
  {
   "cell_type": "markdown",
   "metadata": {},
   "source": []
  },
  {
   "cell_type": "markdown",
   "metadata": {},
   "source": [
    "***DO NOT RUN***\n",
    "$$\\begin{align*} \\text{repeat}&\\text{ until convergence:} \\; \\lbrace \\newline\n",
    "\\;  w &= w -  \\alpha \\frac{\\partial J(w,b)}{\\partial w} \\tag{3}  \\; \\newline \n",
    " b &= b -  \\alpha \\frac{\\partial J(w,b)}{\\partial b}  \\newline \\rbrace\n",
    "\\end{align*}$$\n",
    "where, parameters $w$, $b$ are updated simultaneously.  \n",
    "The gradient is defined as:\n",
    "$$\n",
    "\\begin{align}\n",
    "\\frac{\\partial J(w,b)}{\\partial w}  &= \\frac{1}{m} \\sum\\limits_{i = 0}^{m-1} (f_{w,b}(x^{(i)}) - y^{(i)})x^{(i)} \\tag{4}\\\\\n",
    "  \\frac{\\partial J(w,b)}{\\partial b}  &= \\frac{1}{m} \\sum\\limits_{i = 0}^{m-1} (f_{w,b}(x^{(i)}) - y^{(i)}) \\tag{5}\\\\\n",
    "\\end{align}\n",
    "$$\n"
   ]
  }
 ],
 "metadata": {
  "kernelspec": {
   "display_name": "Python 3",
   "language": "python",
   "name": "python3"
  },
  "language_info": {
   "codemirror_mode": {
    "name": "ipython",
    "version": 3
   },
   "file_extension": ".py",
   "mimetype": "text/x-python",
   "name": "python",
   "nbconvert_exporter": "python",
   "pygments_lexer": "ipython3",
   "version": "3.7.6"
  }
 },
 "nbformat": 4,
 "nbformat_minor": 4
}
